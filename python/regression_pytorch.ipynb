{
 "cells": [
  {
   "attachments": {
    "image.png": {
     "image/png": "[encoded data removed]"
    }
   },
   "cell_type": "markdown",
   "metadata": {},
   "source": [
    "## PyTorch: Linear and Logistic Regression Models\n",
    "\n",
    "Source: https://medium.com/biaslyai/pytorch-linear-and-logistic-regression-models-5c5f0da2cb9\n",
    "\n",
    "\n",
    "In the second part of the HaWT Python Workshop.  This python notebook includes a brief summary and codes of the topics.  Please refer to the source for more detailed description.\n",
    "\n",
    "As the objective of this session is to build regression model using artificial neural network, we will not go over the concept of regression assuming that the audience has knowledge of regression analysis. \n",
    "\n",
    "\n",
    "## Outline\n",
    "* Regression Model\n",
    "* Steps to build Regression Model\n",
    "\n",
    "\n",
    "## Regression Model\n",
    "\n",
    "In some data (Y and X), we hope to find a model (equation) that describes a linear relationship between Y and X, so we can make a prediction (or estimation).    \n",
    "\n",
    "### Simpel Linear Regression\n",
    "\\begin{align}\n",
    "\\hat{x} & = \\beta X + a + e \\\\\n",
    "\\end{align}\n",
    "\n",
    "![image.png](attachment:image.png)\n",
    "\n",
    "\n",
    "\n",
    "## Define Model Structure\n",
    "\n",
    "### 1. Import libraries"
   ]
  },
  {
   "cell_type": "code",
   "execution_count": 2,
   "metadata": {},
   "outputs": [],
   "source": [
    "import torch\n",
    "from torch.autograd import Variable\n",
    "from torch.nn import functional as F"
   ]
  },
  {
   "cell_type": "markdown",
   "metadata": {},
   "source": [
    "### 2. Create X and Y data\n",
    "In practice, you will upload your own dataset and assign columns of your data to X and Y variables.  For this session, we will just create a data.\n",
    "\n",
    "PyTorch Basic https://medium.com/biaslyai/learn-pytorch-basics-6d433f186b7a"
   ]
  },
  {
   "cell_type": "code",
   "execution_count": 4,
   "metadata": {},
   "outputs": [],
   "source": [
    "\n",
    "x_data = Variable(torch.Tensor([[10.0], [9.0], [3.0], [2.0]]))\n",
    "y_data = Variable(torch.Tensor([[90.0], [80.0], [50.0], [30.0]]))"
   ]
  },
  {
   "cell_type": "markdown",
   "metadata": {},
   "source": [
    "### 3. Define Model Type\n",
    "We are interested in building linear regression using our data X and Y. \n"
   ]
  },
  {
   "cell_type": "code",
   "execution_count": 6,
   "metadata": {},
   "outputs": [],
   "source": [
    "class LinearRegression(torch.nn.Module):\n",
    "    def __init__(self):\n",
    "        super(LinearRegression, self).__init__()\n",
    "        self.linear = torch.nn.Linear(1, 1)  #torch.nn.linear(input size, and output size)\n",
    "    def forward(self, x):\n",
    "        y_pred = self.linear(x)\n",
    "        return y_pred\n",
    "model = LinearRegression()"
   ]
  },
  {
   "cell_type": "markdown",
   "metadata": {},
   "source": [
    "### 4. Loss Function (Criterion) and Optimizer\n",
    "Loss function and optimizer will help find the best fit. We will use MSE (Mean squared error)"
   ]
  },
  {
   "cell_type": "code",
   "execution_count": 11,
   "metadata": {},
   "outputs": [],
   "source": [
    "criterion = torch.nn.MSELoss(size_average=False)\n",
    "optimizer = torch.optim.SGD(model.parameters(), lr=0.01)  # optimize my model's parameters using learning rate of 0.01"
   ]
  },
  {
   "cell_type": "markdown",
   "metadata": {},
   "source": [
    "## Model Training\n",
    "\n",
    "Until this point, we defined all the components of the model.  \n",
    "* type of regression analysis?  Linear regression with 1 output (1Y column), 1 input (1 X column)\n",
    "* what are the data?  we created our own data x_data and y_data\n",
    "* loss function?  we will use MSE\n",
    "* optimization? we will use SGD to solve MSE\n",
    "\n",
    "Our model is now ready to train. We begin by setting up an epoch size. Epoch is a single pass through whole training dataset. In the example below, the epoch size is set to 20, meaning there will be 20 single passes of the training and weight updates.  (provide reference for gradient descent optimization) (epoch)\n",
    "\n",
    "https://medium.com/biaslyai/pytorch-introduction-to-neural-network-feedforward-neural-network-model-e7231cff47cb\n",
    "\n",
    "After the forward pass and the loss computation is done, we do a backward pass, which refers to the process of learning and updating the weights. We first need to set our gradient to zero: optimizer.zero_grad() . This is because every time a variable is back propagated through, the gradient will be accumulated instead of being replaced. Then we run a backward pass by loss.backward() . Then optimizer.step() performs a parameter update based on the current gradient.\n",
    "\n"
   ]
  },
  {
   "cell_type": "code",
   "execution_count": 12,
   "metadata": {},
   "outputs": [],
   "source": [
    "for epoch in range(20):\n",
    "    model.train()\n",
    "    optimizer.zero_grad()\n",
    "    # Forward pass\n",
    "    y_pred = model(x_data)\n",
    "    # Compute Loss\n",
    "    loss = criterion(y_pred, y_data)\n",
    "    # Backward pass\n",
    "    loss.backward()\n",
    "    optimizer.step()"
   ]
  },
  {
   "cell_type": "markdown",
   "metadata": {},
   "source": [
    "## Make Predictions\n",
    "Now that our model is trained, we can simply make a new prediction by inputting a new x value to our model:"
   ]
  },
  {
   "cell_type": "code",
   "execution_count": 13,
   "metadata": {},
   "outputs": [
    {
     "name": "stdout",
     "output_type": "stream",
     "text": [
      "predicted Y value:  tensor(-9.3867e+10)\n"
     ]
    }
   ],
   "source": [
    "new_x = Variable(torch.Tensor([[4.0]]))\n",
    "y_pred = model(new_x)\n",
    "print(\"predicted Y value: \", y_pred.data[0][0])"
   ]
  },
  {
   "cell_type": "markdown",
   "metadata": {},
   "source": [
    "## Print Model Results"
   ]
  },
  {
   "cell_type": "code",
   "execution_count": null,
   "metadata": {},
   "outputs": [],
   "source": []
  },
  {
   "cell_type": "markdown",
   "metadata": {},
   "source": [
    "# Logistic Regression\n",
    "\n",
    "In linear regression problem, we predict Y that can be any numerical value. In logistic regression, Y is a binary value (0, 1), (true or false) (Yes or no), etc.\n",
    "\n",
    "We will follow exactly same step as Linear Regression, only differences are:\n",
    "* **Model**: LogisticRegression instead of LinearRegression\n",
    "* **Loss** function: use BCE instead of MSE "
   ]
  },
  {
   "cell_type": "code",
   "execution_count": 15,
   "metadata": {},
   "outputs": [],
   "source": [
    "class LogisticRegression(torch.nn.Module):\n",
    "     def __init__(self):\n",
    "        super(LogisticRegression, self).__init__()\n",
    "        self.linear = torch.nn.Linear(1, 1)\n",
    "     def forward(self, x):\n",
    "        y_pred = F.sigmoid(self.linear(x))\n",
    "        return y_pred\n",
    "    \n",
    "model = LogisticRegression()\n",
    "criterion = torch.nn.BCELoss(reduction='mean')\n",
    "optimizer = torch.optim.SGD(model.parameters(), lr=0.01)  # optimize my model's parameters using learning rate of 0.01\n"
   ]
  }
 ],
 "metadata": {
  "kernelspec": {
   "display_name": "cyber",
   "language": "python",
   "name": "cyber"
  },
  "language_info": {
   "codemirror_mode": {
    "name": "ipython",
    "version": 3
   },
   "file_extension": ".py",
   "mimetype": "text/x-python",
   "name": "python",
   "nbconvert_exporter": "python",
   "pygments_lexer": "ipython3",
   "version": "3.6.9"
  }
 },
 "nbformat": 4,
 "nbformat_minor": 4
}
